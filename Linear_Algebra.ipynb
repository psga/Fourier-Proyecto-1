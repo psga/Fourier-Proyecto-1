{
  "nbformat": 4,
  "nbformat_minor": 0,
  "metadata": {
    "colab": {
      "name": "Linear Algebra.ipynb",
      "provenance": [],
      "collapsed_sections": [],
      "include_colab_link": true
    },
    "kernelspec": {
      "name": "python3",
      "display_name": "Python 3"
    },
    "language_info": {
      "name": "python"
    }
  },
  "cells": [
    {
      "cell_type": "markdown",
      "metadata": {
        "id": "view-in-github",
        "colab_type": "text"
      },
      "source": [
        "<a href=\"https://colab.research.google.com/github/psga/Fourier-Proyecto-1/blob/main/Linear_Algebra.ipynb\" target=\"_parent\"><img src=\"https://colab.research.google.com/assets/colab-badge.svg\" alt=\"Open In Colab\"/></a>"
      ]
    },
    {
      "cell_type": "code",
      "metadata": {
        "id": "VOM8_oq_wPZV"
      },
      "source": [
        "import sympy as sp\n",
        "import numpy as np"
      ],
      "execution_count": 1,
      "outputs": []
    },
    {
      "cell_type": "markdown",
      "metadata": {
        "id": "PFI1UvpIwauY"
      },
      "source": [
        "# linear Dependence"
      ]
    },
    {
      "cell_type": "code",
      "metadata": {
        "colab": {
          "base_uri": "https://localhost:8080/",
          "height": 88
        },
        "id": "hznVsupCKKBk",
        "outputId": "de1f9514-d04a-405b-8f47-511590fe37b9"
      },
      "source": [
        "k,S=sp.symbols(\"k,S\")\n",
        "sp.Matrix([[k , -k,  3],\n",
        "           [ 0,k+1,  1],\n",
        "           [ k, -8,k-1],\n",
        "        ]).inv()\n",
        "sp.Matrix([\n",
        "           [k,k,0],\n",
        "           [k**2,4,k**2],\n",
        "           [0,k,k],\n",
        "]).inv()"
      ],
      "execution_count": null,
      "outputs": [
        {
          "output_type": "execute_result",
          "data": {
            "text/latex": "$\\displaystyle \\left[\\begin{matrix}\\frac{k^{2} - 4}{2 k^{3} - 4 k} & \\frac{1}{2 k^{2} - 4} & - \\frac{k}{2 k^{2} - 4}\\\\\\frac{k}{2 k^{2} - 4} & - \\frac{1}{2 k^{2} - 4} & \\frac{k}{2 k^{2} - 4}\\\\- \\frac{k}{2 k^{2} - 4} & \\frac{1}{2 k^{2} - 4} & \\frac{k^{2} - 4}{2 k^{3} - 4 k}\\end{matrix}\\right]$",
            "text/plain": [
              "Matrix([\n",
              "[(k**2 - 4)/(2*k**3 - 4*k),  1/(2*k**2 - 4),           -k/(2*k**2 - 4)],\n",
              "[           k/(2*k**2 - 4), -1/(2*k**2 - 4),            k/(2*k**2 - 4)],\n",
              "[          -k/(2*k**2 - 4),  1/(2*k**2 - 4), (k**2 - 4)/(2*k**3 - 4*k)]])"
            ]
          },
          "metadata": {},
          "execution_count": 6
        }
      ]
    },
    {
      "cell_type": "code",
      "metadata": {
        "id": "9cmTOeao6p0Z",
        "colab": {
          "base_uri": "https://localhost:8080/",
          "height": 78
        },
        "outputId": "266b7e81-a649-4675-b5d0-ddcc72db7be0"
      },
      "source": [
        "A=sp.Matrix([\n",
        "           [3,-1],\n",
        "           [1, 2],\n",
        "           [1, 4],\n",
        "])\n",
        "u=sp.Matrix(\n",
        "[    [1],\n",
        "    [2],\n",
        "    ]\n",
        ")\n",
        "A*u"
      ],
      "execution_count": null,
      "outputs": [
        {
          "output_type": "execute_result",
          "data": {
            "text/latex": "$\\displaystyle \\left[\\begin{matrix}1\\\\5\\\\9\\end{matrix}\\right]$",
            "text/plain": [
              "Matrix([\n",
              "[1],\n",
              "[5],\n",
              "[9]])"
            ]
          },
          "metadata": {},
          "execution_count": 6
        }
      ]
    },
    {
      "cell_type": "code",
      "metadata": {
        "colab": {
          "base_uri": "https://localhost:8080/",
          "height": 78
        },
        "id": "95b1zaqoK7Kk",
        "outputId": "ee70833c-bfd8-4c9f-d9b4-19cd786fc2d4"
      },
      "source": [
        "Matrix([[0,1,1],\n",
        "        [1,1,2],\n",
        "        [1,0,3],\n",
        "        ]).rref()[0] #Incompatible"
      ],
      "execution_count": null,
      "outputs": [
        {
          "output_type": "execute_result",
          "data": {
            "text/latex": "$\\displaystyle \\left[\\begin{matrix}1 & 0 & 0\\\\0 & 1 & 0\\\\0 & 0 & 1\\end{matrix}\\right]$",
            "text/plain": [
              "Matrix([\n",
              "[1, 0, 0],\n",
              "[0, 1, 0],\n",
              "[0, 0, 1]])"
            ]
          },
          "metadata": {},
          "execution_count": 21
        }
      ]
    },
    {
      "cell_type": "code",
      "metadata": {
        "colab": {
          "base_uri": "https://localhost:8080/",
          "height": 58
        },
        "id": "1Slw0NSDM1L9",
        "outputId": "beef95c2-2818-45eb-f1a8-5f198f4a86c5"
      },
      "source": [
        "Matrix([[-1,2,1],\n",
        "        [3,-6,2],\n",
        "        ]).rref()[0] #Incompatible"
      ],
      "execution_count": null,
      "outputs": [
        {
          "output_type": "execute_result",
          "data": {
            "text/latex": "$\\displaystyle \\left[\\begin{matrix}1 & -2 & 0\\\\0 & 0 & 1\\end{matrix}\\right]$",
            "text/plain": [
              "Matrix([\n",
              "[1, -2, 0],\n",
              "[0,  0, 1]])"
            ]
          },
          "metadata": {},
          "execution_count": 23
        }
      ]
    },
    {
      "cell_type": "code",
      "metadata": {
        "colab": {
          "base_uri": "https://localhost:8080/",
          "height": 78
        },
        "id": "W-ps679gNS0I",
        "outputId": "12b62ed2-62b0-4053-e784-d67b58b4be6b"
      },
      "source": [
        "Matrix([\n",
        "        [1,1,1],\n",
        "        [1,0,2],\n",
        "        [0,1,3],\n",
        "        ]).rref()[0]"
      ],
      "execution_count": null,
      "outputs": [
        {
          "output_type": "execute_result",
          "data": {
            "text/latex": "$\\displaystyle \\left[\\begin{matrix}1 & 0 & 0\\\\0 & 1 & 0\\\\0 & 0 & 1\\end{matrix}\\right]$",
            "text/plain": [
              "Matrix([\n",
              "[1, 0, 0],\n",
              "[0, 1, 0],\n",
              "[0, 0, 1]])"
            ]
          },
          "metadata": {},
          "execution_count": 26
        }
      ]
    },
    {
      "cell_type": "code",
      "metadata": {
        "colab": {
          "base_uri": "https://localhost:8080/",
          "height": 78
        },
        "id": "NzeI9dFiOHdH",
        "outputId": "e7d307f1-6885-436e-ca28-93faa103998d"
      },
      "source": [
        "Matrix([\n",
        "    [1,1,1,1],\n",
        "    [1,0,2,2],\n",
        "    [0,1,-1,3]]\n",
        "    ).rref()[0]"
      ],
      "execution_count": null,
      "outputs": [
        {
          "output_type": "execute_result",
          "data": {
            "text/latex": "$\\displaystyle \\left[\\begin{matrix}1 & 0 & 2 & 0\\\\0 & 1 & -1 & 0\\\\0 & 0 & 0 & 1\\end{matrix}\\right]$",
            "text/plain": [
              "Matrix([\n",
              "[1, 0,  2, 0],\n",
              "[0, 1, -1, 0],\n",
              "[0, 0,  0, 1]])"
            ]
          },
          "metadata": {},
          "execution_count": 30
        }
      ]
    },
    {
      "cell_type": "markdown",
      "metadata": {
        "id": "7YMy4DSgOkIi"
      },
      "source": [
        "### 2"
      ]
    },
    {
      "cell_type": "code",
      "metadata": {
        "colab": {
          "base_uri": "https://localhost:8080/",
          "height": 78
        },
        "id": "ftzdm3L8OllA",
        "outputId": "8dd18a67-c67b-4f49-ba26-bf9492cb272c"
      },
      "source": [
        "Matrix([\n",
        "    [1,2,3,10],\n",
        "    [4,5,6,11],\n",
        "    [7,8,9,12]\n",
        "       ]).rref()[0]"
      ],
      "execution_count": null,
      "outputs": [
        {
          "output_type": "execute_result",
          "data": {
            "text/latex": "$\\displaystyle \\left[\\begin{matrix}1 & 0 & -1 & - \\frac{28}{3}\\\\0 & 1 & 2 & \\frac{29}{3}\\\\0 & 0 & 0 & 0\\end{matrix}\\right]$",
            "text/plain": [
              "Matrix([\n",
              "[1, 0, -1, -28/3],\n",
              "[0, 1,  2,  29/3],\n",
              "[0, 0,  0,     0]])"
            ]
          },
          "metadata": {},
          "execution_count": 36
        }
      ]
    },
    {
      "cell_type": "code",
      "metadata": {
        "colab": {
          "base_uri": "https://localhost:8080/",
          "height": 98
        },
        "id": "xONm6GMiPo3d",
        "outputId": "89bcec1a-af6d-42c0-ed64-c3fbbf50f739"
      },
      "source": [
        "Matrix([\n",
        "        [1 ,-1, 1,0,0],\n",
        "        [-1,1 , 0,1,0],\n",
        "        [1 ,0 , 1,-1,0],\n",
        "        [0 ,1 ,-1,1,0]\n",
        "       ]).rref()[0]"
      ],
      "execution_count": null,
      "outputs": [
        {
          "output_type": "execute_result",
          "data": {
            "text/latex": "$\\displaystyle \\left[\\begin{matrix}1 & 0 & 0 & 0 & 0\\\\0 & 1 & 0 & 0 & 0\\\\0 & 0 & 1 & 0 & 0\\\\0 & 0 & 0 & 1 & 0\\end{matrix}\\right]$",
            "text/plain": [
              "Matrix([\n",
              "[1, 0, 0, 0, 0],\n",
              "[0, 1, 0, 0, 0],\n",
              "[0, 0, 1, 0, 0],\n",
              "[0, 0, 0, 1, 0]])"
            ]
          },
          "metadata": {},
          "execution_count": 42
        }
      ]
    },
    {
      "cell_type": "code",
      "metadata": {
        "colab": {
          "base_uri": "https://localhost:8080/"
        },
        "id": "tCQb4ca-bTV-",
        "outputId": "07a8321a-4bd8-4f9b-859c-3577ab3542e2"
      },
      "source": [
        "x,y,z,w=symbols(\"x,y,z,w\")\n",
        "solve([x-y+z,-x+y+w,x+z-w,y-z+w], (x, y,z,w))"
      ],
      "execution_count": null,
      "outputs": [
        {
          "output_type": "execute_result",
          "data": {
            "text/plain": [
              "{w: 0, x: 0, y: 0, z: 0}"
            ]
          },
          "metadata": {},
          "execution_count": 54
        }
      ]
    },
    {
      "cell_type": "code",
      "metadata": {
        "colab": {
          "base_uri": "https://localhost:8080/"
        },
        "id": "EitmSOX8c8JU",
        "outputId": "75ffd062-c387-4e43-e0d9-8d0d5f68714f"
      },
      "source": [
        "solve(\n",
        "    [4*w,\n",
        "     3*z+3*w,\n",
        "     2*y+2*z+2*w,\n",
        "     x+y+z+w,\n",
        "     ]\n",
        ")"
      ],
      "execution_count": null,
      "outputs": [
        {
          "output_type": "execute_result",
          "data": {
            "text/plain": [
              "{w: 0, x: 0, y: 0, z: 0}"
            ]
          },
          "metadata": {},
          "execution_count": 56
        }
      ]
    },
    {
      "cell_type": "code",
      "metadata": {
        "id": "qb4eKU1gdG9P",
        "colab": {
          "base_uri": "https://localhost:8080/",
          "height": 139
        },
        "outputId": "baab207c-4843-4b18-d89a-3c43874c55e6"
      },
      "source": [
        "sp.Matrix([\n",
        "           [2,0,-3,2,0,-3],\n",
        "           [4,2,23,4,2,23],\n",
        "           [0,4,3,0,4,3],\n",
        "           [1,0,0,1,0,0],\n",
        "           [0,1,0,0,1,0],\n",
        "           [0,0,1,0,0,1]\n",
        "]).rref()[0]"
      ],
      "execution_count": 4,
      "outputs": [
        {
          "output_type": "execute_result",
          "data": {
            "text/latex": "$\\displaystyle \\left[\\begin{matrix}1 & 0 & 0 & 1 & 0 & 0\\\\0 & 1 & 0 & 0 & 1 & 0\\\\0 & 0 & 1 & 0 & 0 & 1\\\\0 & 0 & 0 & 0 & 0 & 0\\\\0 & 0 & 0 & 0 & 0 & 0\\\\0 & 0 & 0 & 0 & 0 & 0\\end{matrix}\\right]$",
            "text/plain": [
              "Matrix([\n",
              "[1, 0, 0, 1, 0, 0],\n",
              "[0, 1, 0, 0, 1, 0],\n",
              "[0, 0, 1, 0, 0, 1],\n",
              "[0, 0, 0, 0, 0, 0],\n",
              "[0, 0, 0, 0, 0, 0],\n",
              "[0, 0, 0, 0, 0, 0]])"
            ]
          },
          "metadata": {},
          "execution_count": 4
        }
      ]
    }
  ]
}